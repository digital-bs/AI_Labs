{
 "cells": [
  {
   "cell_type": "code",
   "execution_count": 1,
   "id": "55605256",
   "metadata": {},
   "outputs": [],
   "source": [
    "import numpy as np\n",
    "import pandas as pd\n",
    "import matplotlib.pyplot as plt\n",
    "from IPython.core.pylabtools import figsize\n",
    "import seaborn as sns\n",
    "plt.rcParams['font.size'] = 24\n",
    "sns.set(font_scale = 2)"
   ]
  },
  {
   "cell_type": "code",
   "execution_count": 2,
   "id": "d3aff41e",
   "metadata": {},
   "outputs": [
    {
     "name": "stdout",
     "output_type": "stream",
     "text": [
      "2012 NYC Benchmark Data\n"
     ]
    },
    {
     "data": {
      "text/html": [
       "<div>\n",
       "<style scoped>\n",
       "    .dataframe tbody tr th:only-of-type {\n",
       "        vertical-align: middle;\n",
       "    }\n",
       "\n",
       "    .dataframe tbody tr th {\n",
       "        vertical-align: top;\n",
       "    }\n",
       "\n",
       "    .dataframe thead th {\n",
       "        text-align: right;\n",
       "    }\n",
       "</style>\n",
       "<table border=\"1\" class=\"dataframe\">\n",
       "  <thead>\n",
       "    <tr style=\"text-align: right;\">\n",
       "      <th></th>\n",
       "      <th>BBL</th>\n",
       "      <th>Street Number</th>\n",
       "      <th>Street Name</th>\n",
       "      <th>Borough</th>\n",
       "      <th>Zip</th>\n",
       "      <th>Benchmarking Submission</th>\n",
       "      <th>Entry Number</th>\n",
       "      <th>Site EUI\\n(kBtu/ft2)</th>\n",
       "      <th>Weather Normalized Source EUI\\n(kBtu/ft2)</th>\n",
       "      <th>Indoor Water Intensity (All Water Sources)\\n(gal/ft2)</th>\n",
       "      <th>Reported Water Method</th>\n",
       "      <th>ENERGY STAR Score</th>\n",
       "      <th>Total GHG Emissions\\n(MtCO2e)</th>\n",
       "      <th>Property Floor Area (Buildngs and Parking)\\n(ft2)</th>\n",
       "      <th>Primary Property Type - Self Selected</th>\n",
       "      <th>Number of Buildings</th>\n",
       "      <th>Reported BINs</th>\n",
       "    </tr>\n",
       "  </thead>\n",
       "  <tbody>\n",
       "    <tr>\n",
       "      <th>0</th>\n",
       "      <td>1000010010</td>\n",
       "      <td>1</td>\n",
       "      <td>GOVERNORS ISLAND</td>\n",
       "      <td>MANHATTAN</td>\n",
       "      <td>10004</td>\n",
       "      <td>No Record as of 08/1/13</td>\n",
       "      <td>NaN</td>\n",
       "      <td>NaN</td>\n",
       "      <td>NaN</td>\n",
       "      <td>NaN</td>\n",
       "      <td>NaN</td>\n",
       "      <td>NaN</td>\n",
       "      <td>NaN</td>\n",
       "      <td>NaN</td>\n",
       "      <td>NaN</td>\n",
       "      <td>1</td>\n",
       "      <td>NaN</td>\n",
       "    </tr>\n",
       "    <tr>\n",
       "      <th>1</th>\n",
       "      <td>1000020002</td>\n",
       "      <td>NaN</td>\n",
       "      <td>MARGINAL STREET</td>\n",
       "      <td>MANHATTAN</td>\n",
       "      <td>10004</td>\n",
       "      <td>No Record as of 08/1/13</td>\n",
       "      <td>NaN</td>\n",
       "      <td>NaN</td>\n",
       "      <td>NaN</td>\n",
       "      <td>NaN</td>\n",
       "      <td>NaN</td>\n",
       "      <td>NaN</td>\n",
       "      <td>NaN</td>\n",
       "      <td>NaN</td>\n",
       "      <td>NaN</td>\n",
       "      <td>0</td>\n",
       "      <td>NaN</td>\n",
       "    </tr>\n",
       "    <tr>\n",
       "      <th>2</th>\n",
       "      <td>1000047501</td>\n",
       "      <td>1</td>\n",
       "      <td>WATER STREET</td>\n",
       "      <td>MANHATTAN</td>\n",
       "      <td>10004</td>\n",
       "      <td>Yes</td>\n",
       "      <td>41.0</td>\n",
       "      <td>102.0</td>\n",
       "      <td>287.9</td>\n",
       "      <td>16.370000</td>\n",
       "      <td>Manual</td>\n",
       "      <td>75</td>\n",
       "      <td>25932.68</td>\n",
       "      <td>2428325.0</td>\n",
       "      <td>Office</td>\n",
       "      <td>1</td>\n",
       "      <td>1000005</td>\n",
       "    </tr>\n",
       "    <tr>\n",
       "      <th>3</th>\n",
       "      <td>1000057501</td>\n",
       "      <td>125</td>\n",
       "      <td>BROAD STREET</td>\n",
       "      <td>MANHATTAN</td>\n",
       "      <td>10004</td>\n",
       "      <td>Yes</td>\n",
       "      <td>3871.0</td>\n",
       "      <td>119.6</td>\n",
       "      <td>261.5</td>\n",
       "      <td>NaN</td>\n",
       "      <td>Manual</td>\n",
       "      <td>70</td>\n",
       "      <td>11637.42</td>\n",
       "      <td>1338000.0</td>\n",
       "      <td>Office</td>\n",
       "      <td>1</td>\n",
       "      <td>1000006</td>\n",
       "    </tr>\n",
       "    <tr>\n",
       "      <th>4</th>\n",
       "      <td>1003620001</td>\n",
       "      <td>134</td>\n",
       "      <td>AVENUE D</td>\n",
       "      <td>MANHATTAN</td>\n",
       "      <td>10009</td>\n",
       "      <td>Yes</td>\n",
       "      <td>8312.0</td>\n",
       "      <td>30.3</td>\n",
       "      <td>85.7</td>\n",
       "      <td>1.571029</td>\n",
       "      <td>ABS</td>\n",
       "      <td>NaN</td>\n",
       "      <td>13709.99</td>\n",
       "      <td>5207812.0</td>\n",
       "      <td>Multifamily Housing</td>\n",
       "      <td>7</td>\n",
       "      <td>1077504;1077538;1077539;1077540;1077541;107754...</td>\n",
       "    </tr>\n",
       "  </tbody>\n",
       "</table>\n",
       "</div>"
      ],
      "text/plain": [
       "          BBL Street Number       Street Name    Borough    Zip  \\\n",
       "0  1000010010             1  GOVERNORS ISLAND  MANHATTAN  10004   \n",
       "1  1000020002           NaN   MARGINAL STREET  MANHATTAN  10004   \n",
       "2  1000047501             1      WATER STREET  MANHATTAN  10004   \n",
       "3  1000057501           125      BROAD STREET  MANHATTAN  10004   \n",
       "4  1003620001           134          AVENUE D  MANHATTAN  10009   \n",
       "\n",
       "   Benchmarking Submission  Entry Number  Site EUI\\n(kBtu/ft2)  \\\n",
       "0  No Record as of 08/1/13           NaN                   NaN   \n",
       "1  No Record as of 08/1/13           NaN                   NaN   \n",
       "2                      Yes          41.0                 102.0   \n",
       "3                      Yes        3871.0                 119.6   \n",
       "4                      Yes        8312.0                  30.3   \n",
       "\n",
       "   Weather Normalized Source EUI\\n(kBtu/ft2)  \\\n",
       "0                                        NaN   \n",
       "1                                        NaN   \n",
       "2                                      287.9   \n",
       "3                                      261.5   \n",
       "4                                       85.7   \n",
       "\n",
       "   Indoor Water Intensity (All Water Sources)\\n(gal/ft2)  \\\n",
       "0                                                NaN       \n",
       "1                                                NaN       \n",
       "2                                          16.370000       \n",
       "3                                                NaN       \n",
       "4                                           1.571029       \n",
       "\n",
       "  Reported Water Method ENERGY STAR Score  Total GHG Emissions\\n(MtCO2e)  \\\n",
       "0                   NaN               NaN                            NaN   \n",
       "1                   NaN               NaN                            NaN   \n",
       "2                Manual                75                       25932.68   \n",
       "3                Manual                70                       11637.42   \n",
       "4                   ABS               NaN                       13709.99   \n",
       "\n",
       "   Property Floor Area (Buildngs and Parking)\\n(ft2)  \\\n",
       "0                                                NaN   \n",
       "1                                                NaN   \n",
       "2                                          2428325.0   \n",
       "3                                          1338000.0   \n",
       "4                                          5207812.0   \n",
       "\n",
       "  Primary Property Type - Self Selected  Number of Buildings  \\\n",
       "0                                   NaN                    1   \n",
       "1                                   NaN                    0   \n",
       "2                                Office                    1   \n",
       "3                                Office                    1   \n",
       "4                   Multifamily Housing                    7   \n",
       "\n",
       "                                       Reported BINs  \n",
       "0                                                NaN  \n",
       "1                                                NaN  \n",
       "2                                            1000005  \n",
       "3                                            1000006  \n",
       "4  1077504;1077538;1077539;1077540;1077541;107754...  "
      ]
     },
     "execution_count": 2,
     "metadata": {},
     "output_type": "execute_result"
    }
   ],
   "source": [
    "df = pd.read_excel('C:\\\\Users\\\\Semen\\\\Desktop\\\\2022\\\\3 semestr\\\\AI\\\\2013_nyc_ll84_disclosure.xlsx')\n",
    "df.head()"
   ]
  },
  {
   "cell_type": "code",
   "execution_count": 3,
   "id": "4bcc81a4",
   "metadata": {},
   "outputs": [],
   "source": [
    "feature_A = 'BBL'\n",
    "feature_D = 'Borough'\n",
    "feature_H = 'Site EUI\\n(kBtu/ft2)'\n",
    "feature_K = 'Reported Water Method'\n",
    "feature_M = 'Total GHG Emissions\\n(MtCO2e)'\n",
    "feature_P = 'Number of Buildings'\n",
    "feature_L = 'ENERGY STAR Score'\n",
    "df = df[[feature_A, feature_D, feature_H, feature_K, feature_M, feature_P, feature_L]]"
   ]
  },
  {
   "cell_type": "code",
   "execution_count": 4,
   "id": "96bbb137",
   "metadata": {},
   "outputs": [
    {
     "data": {
      "text/plain": [
       "(14112, 7)"
      ]
     },
     "execution_count": 4,
     "metadata": {},
     "output_type": "execute_result"
    }
   ],
   "source": [
    "df.shape"
   ]
  },
  {
   "cell_type": "code",
   "execution_count": 5,
   "id": "f2845e5e",
   "metadata": {
    "scrolled": true
   },
   "outputs": [
    {
     "name": "stdout",
     "output_type": "stream",
     "text": [
      "<class 'pandas.core.frame.DataFrame'>\n",
      "Int64Index: 1872 entries, 2 to 14103\n",
      "Data columns (total 7 columns):\n",
      " #   Column                        Non-Null Count  Dtype  \n",
      "---  ------                        --------------  -----  \n",
      " 0   BBL                           1872 non-null   int64  \n",
      " 1   Borough                       1872 non-null   object \n",
      " 2   Site EUI\n",
      "(kBtu/ft2)           1871 non-null   float64\n",
      " 3   Reported Water Method         1872 non-null   object \n",
      " 4   Total GHG Emissions\n",
      "(MtCO2e)  1869 non-null   float64\n",
      " 5   Number of Buildings           1872 non-null   int64  \n",
      " 6   ENERGY STAR Score             1872 non-null   object \n",
      "dtypes: float64(2), int64(2), object(3)\n",
      "memory usage: 117.0+ KB\n"
     ]
    }
   ],
   "source": [
    "df = df.dropna(subset=[feature_L])\n",
    "df.info()"
   ]
  },
  {
   "cell_type": "code",
   "execution_count": 6,
   "id": "2da7b88e",
   "metadata": {},
   "outputs": [
    {
     "data": {
      "text/plain": [
       "array([75, 70, 55, 82, 41, 36, 90, 67, 80, 96, 72, 78, 88, 39, 60, 51, 50,\n",
       "       76, 1, 65, 100, 79, 'Exempt', 84, 34, 74, 68, 77, 93, 89, 94, 92,\n",
       "       61, 95, 35, 21, 59, 48, 49, 19, 54, 56, 81, 86, 69, 98, 14, 8, 29,\n",
       "       45, 52, 27, 40, 31, 30, 71, 32, 9, 22, 20, 87, 15, 37, 91, 83, 58,\n",
       "       5, 97, 64, 73, 10, 43, 12, 2, 85, 99, 42, 6, 4, 63, 44, 62, 17, 24,\n",
       "       66, 26, 23, 38, 57, 16, 33, 47, 28, 53, 11, 3, 18, 46, 7, 25, 13],\n",
       "      dtype=object)"
      ]
     },
     "execution_count": 6,
     "metadata": {},
     "output_type": "execute_result"
    }
   ],
   "source": [
    "df[feature_L].unique()"
   ]
  },
  {
   "cell_type": "code",
   "execution_count": 7,
   "id": "e72008cf",
   "metadata": {},
   "outputs": [
    {
     "name": "stdout",
     "output_type": "stream",
     "text": [
      "<class 'pandas.core.frame.DataFrame'>\n",
      "Int64Index: 1864 entries, 2 to 14103\n",
      "Data columns (total 7 columns):\n",
      " #   Column                        Non-Null Count  Dtype  \n",
      "---  ------                        --------------  -----  \n",
      " 0   BBL                           1864 non-null   int64  \n",
      " 1   Borough                       1864 non-null   object \n",
      " 2   Site EUI\n",
      "(kBtu/ft2)           1863 non-null   float64\n",
      " 3   Reported Water Method         1864 non-null   object \n",
      " 4   Total GHG Emissions\n",
      "(MtCO2e)  1861 non-null   float64\n",
      " 5   Number of Buildings           1864 non-null   int64  \n",
      " 6   ENERGY STAR Score             1864 non-null   float64\n",
      "dtypes: float64(3), int64(2), object(2)\n",
      "memory usage: 116.5+ KB\n"
     ]
    }
   ],
   "source": [
    "df[feature_L] = pd.to_numeric(df[feature_L], errors = 'coerce')\n",
    "df = df.dropna(subset=[feature_L])\n",
    "df.info()\n",
    "df.to_excel('C:\\\\Users\\\\Semen\\\\Desktop\\\\2022\\\\3 semestr\\\\AI\\\\AI3_cut.xlsx', index=False)"
   ]
  },
  {
   "cell_type": "code",
   "execution_count": 8,
   "id": "d4c37f0f",
   "metadata": {},
   "outputs": [
    {
     "data": {
      "text/html": [
       "<div>\n",
       "<style scoped>\n",
       "    .dataframe tbody tr th:only-of-type {\n",
       "        vertical-align: middle;\n",
       "    }\n",
       "\n",
       "    .dataframe tbody tr th {\n",
       "        vertical-align: top;\n",
       "    }\n",
       "\n",
       "    .dataframe thead th {\n",
       "        text-align: right;\n",
       "    }\n",
       "</style>\n",
       "<table border=\"1\" class=\"dataframe\">\n",
       "  <thead>\n",
       "    <tr style=\"text-align: right;\">\n",
       "      <th></th>\n",
       "      <th>BBL</th>\n",
       "      <th>Site EUI\\n(kBtu/ft2)</th>\n",
       "      <th>Total GHG Emissions\\n(MtCO2e)</th>\n",
       "      <th>Number of Buildings</th>\n",
       "      <th>ENERGY STAR Score</th>\n",
       "    </tr>\n",
       "  </thead>\n",
       "  <tbody>\n",
       "    <tr>\n",
       "      <th>count</th>\n",
       "      <td>1.864000e+03</td>\n",
       "      <td>1863.000000</td>\n",
       "      <td>1.861000e+03</td>\n",
       "      <td>1864.000000</td>\n",
       "      <td>1864.000000</td>\n",
       "    </tr>\n",
       "    <tr>\n",
       "      <th>mean</th>\n",
       "      <td>1.829675e+09</td>\n",
       "      <td>932.978422</td>\n",
       "      <td>1.509212e+04</td>\n",
       "      <td>1.399142</td>\n",
       "      <td>62.752682</td>\n",
       "    </tr>\n",
       "    <tr>\n",
       "      <th>std</th>\n",
       "      <td>1.244687e+09</td>\n",
       "      <td>13156.235773</td>\n",
       "      <td>1.965322e+05</td>\n",
       "      <td>2.360554</td>\n",
       "      <td>29.283619</td>\n",
       "    </tr>\n",
       "    <tr>\n",
       "      <th>min</th>\n",
       "      <td>1.000048e+09</td>\n",
       "      <td>0.300000</td>\n",
       "      <td>2.010000e+00</td>\n",
       "      <td>0.000000</td>\n",
       "      <td>1.000000</td>\n",
       "    </tr>\n",
       "    <tr>\n",
       "      <th>25%</th>\n",
       "      <td>1.008340e+09</td>\n",
       "      <td>55.300000</td>\n",
       "      <td>4.309800e+02</td>\n",
       "      <td>1.000000</td>\n",
       "      <td>43.000000</td>\n",
       "    </tr>\n",
       "    <tr>\n",
       "      <th>50%</th>\n",
       "      <td>1.012840e+09</td>\n",
       "      <td>78.600000</td>\n",
       "      <td>9.201600e+02</td>\n",
       "      <td>1.000000</td>\n",
       "      <td>71.000000</td>\n",
       "    </tr>\n",
       "    <tr>\n",
       "      <th>75%</th>\n",
       "      <td>3.005418e+09</td>\n",
       "      <td>112.050000</td>\n",
       "      <td>2.241750e+03</td>\n",
       "      <td>1.000000</td>\n",
       "      <td>87.000000</td>\n",
       "    </tr>\n",
       "    <tr>\n",
       "      <th>max</th>\n",
       "      <td>5.074810e+09</td>\n",
       "      <td>494449.300000</td>\n",
       "      <td>5.913995e+06</td>\n",
       "      <td>26.000000</td>\n",
       "      <td>100.000000</td>\n",
       "    </tr>\n",
       "  </tbody>\n",
       "</table>\n",
       "</div>"
      ],
      "text/plain": [
       "                BBL  Site EUI\\n(kBtu/ft2)  Total GHG Emissions\\n(MtCO2e)  \\\n",
       "count  1.864000e+03           1863.000000                   1.861000e+03   \n",
       "mean   1.829675e+09            932.978422                   1.509212e+04   \n",
       "std    1.244687e+09          13156.235773                   1.965322e+05   \n",
       "min    1.000048e+09              0.300000                   2.010000e+00   \n",
       "25%    1.008340e+09             55.300000                   4.309800e+02   \n",
       "50%    1.012840e+09             78.600000                   9.201600e+02   \n",
       "75%    3.005418e+09            112.050000                   2.241750e+03   \n",
       "max    5.074810e+09         494449.300000                   5.913995e+06   \n",
       "\n",
       "       Number of Buildings  ENERGY STAR Score  \n",
       "count          1864.000000        1864.000000  \n",
       "mean              1.399142          62.752682  \n",
       "std               2.360554          29.283619  \n",
       "min               0.000000           1.000000  \n",
       "25%               1.000000          43.000000  \n",
       "50%               1.000000          71.000000  \n",
       "75%               1.000000          87.000000  \n",
       "max              26.000000         100.000000  "
      ]
     },
     "execution_count": 8,
     "metadata": {},
     "output_type": "execute_result"
    }
   ],
   "source": [
    "df.describe()"
   ]
  },
  {
   "cell_type": "code",
   "execution_count": 9,
   "id": "ab291424",
   "metadata": {},
   "outputs": [
    {
     "data": {
      "text/plain": [
       "3"
      ]
     },
     "execution_count": 9,
     "metadata": {},
     "output_type": "execute_result"
    }
   ],
   "source": [
    "pd.isna(df[feature_M]).sum()"
   ]
  },
  {
   "cell_type": "code",
   "execution_count": 10,
   "id": "88f8ea51",
   "metadata": {},
   "outputs": [
    {
     "data": {
      "text/plain": [
       "0"
      ]
     },
     "execution_count": 10,
     "metadata": {},
     "output_type": "execute_result"
    }
   ],
   "source": [
    "####### Заполним одно недостающее значение 'Total GHG Emissions\\n(MtCO2e)' по среднему значению столбца\n",
    "df[feature_M] = pd.to_numeric(df[feature_M], errors='coerce').astype('Float64')\n",
    "df[feature_M] = df[feature_M].fillna(df[feature_M].mean())\n",
    "pd.isna(df[feature_M]).sum()"
   ]
  },
  {
   "cell_type": "code",
   "execution_count": 11,
   "id": "77019ae0",
   "metadata": {},
   "outputs": [
    {
     "data": {
      "text/plain": [
       "0"
      ]
     },
     "execution_count": 11,
     "metadata": {},
     "output_type": "execute_result"
    }
   ],
   "source": [
    "####### Заполним одно недостающее значение 'Site EUI\\n(kBtu/ft2)' по среднему значению столбца\n",
    "df[feature_H] = pd.to_numeric(df[feature_H], errors='coerce').astype('Float64')\n",
    "df[feature_H] = df[feature_H].fillna(df[feature_H].mean())\n",
    "pd.isna(df[feature_H]).sum()"
   ]
  },
  {
   "cell_type": "code",
   "execution_count": 12,
   "id": "fd559f7b",
   "metadata": {},
   "outputs": [
    {
     "data": {
      "text/html": [
       "<div>\n",
       "<style scoped>\n",
       "    .dataframe tbody tr th:only-of-type {\n",
       "        vertical-align: middle;\n",
       "    }\n",
       "\n",
       "    .dataframe tbody tr th {\n",
       "        vertical-align: top;\n",
       "    }\n",
       "\n",
       "    .dataframe thead th {\n",
       "        text-align: right;\n",
       "    }\n",
       "</style>\n",
       "<table border=\"1\" class=\"dataframe\">\n",
       "  <thead>\n",
       "    <tr style=\"text-align: right;\">\n",
       "      <th></th>\n",
       "      <th>BBL</th>\n",
       "      <th>Site EUI\\n(kBtu/ft2)</th>\n",
       "      <th>Total GHG Emissions\\n(MtCO2e)</th>\n",
       "      <th>Number of Buildings</th>\n",
       "      <th>ENERGY STAR Score</th>\n",
       "    </tr>\n",
       "  </thead>\n",
       "  <tbody>\n",
       "    <tr>\n",
       "      <th>count</th>\n",
       "      <td>1.864000e+03</td>\n",
       "      <td>1864.0</td>\n",
       "      <td>1864.0</td>\n",
       "      <td>1864.000000</td>\n",
       "      <td>1864.000000</td>\n",
       "    </tr>\n",
       "    <tr>\n",
       "      <th>mean</th>\n",
       "      <td>1.829675e+09</td>\n",
       "      <td>932.978422</td>\n",
       "      <td>15092.117775</td>\n",
       "      <td>1.399142</td>\n",
       "      <td>62.752682</td>\n",
       "    </tr>\n",
       "    <tr>\n",
       "      <th>std</th>\n",
       "      <td>1.244687e+09</td>\n",
       "      <td>13152.704372</td>\n",
       "      <td>196373.903751</td>\n",
       "      <td>2.360554</td>\n",
       "      <td>29.283619</td>\n",
       "    </tr>\n",
       "    <tr>\n",
       "      <th>min</th>\n",
       "      <td>1.000048e+09</td>\n",
       "      <td>0.3</td>\n",
       "      <td>2.01</td>\n",
       "      <td>0.000000</td>\n",
       "      <td>1.000000</td>\n",
       "    </tr>\n",
       "    <tr>\n",
       "      <th>25%</th>\n",
       "      <td>1.008340e+09</td>\n",
       "      <td>55.3</td>\n",
       "      <td>432.0075</td>\n",
       "      <td>1.000000</td>\n",
       "      <td>43.000000</td>\n",
       "    </tr>\n",
       "    <tr>\n",
       "      <th>50%</th>\n",
       "      <td>1.012840e+09</td>\n",
       "      <td>78.6</td>\n",
       "      <td>928.755</td>\n",
       "      <td>1.000000</td>\n",
       "      <td>71.000000</td>\n",
       "    </tr>\n",
       "    <tr>\n",
       "      <th>75%</th>\n",
       "      <td>3.005418e+09</td>\n",
       "      <td>112.125</td>\n",
       "      <td>2252.6625</td>\n",
       "      <td>1.000000</td>\n",
       "      <td>87.000000</td>\n",
       "    </tr>\n",
       "    <tr>\n",
       "      <th>max</th>\n",
       "      <td>5.074810e+09</td>\n",
       "      <td>494449.3</td>\n",
       "      <td>5913995.09</td>\n",
       "      <td>26.000000</td>\n",
       "      <td>100.000000</td>\n",
       "    </tr>\n",
       "  </tbody>\n",
       "</table>\n",
       "</div>"
      ],
      "text/plain": [
       "                BBL  Site EUI\\n(kBtu/ft2)  Total GHG Emissions\\n(MtCO2e)  \\\n",
       "count  1.864000e+03                1864.0                         1864.0   \n",
       "mean   1.829675e+09            932.978422                   15092.117775   \n",
       "std    1.244687e+09          13152.704372                  196373.903751   \n",
       "min    1.000048e+09                   0.3                           2.01   \n",
       "25%    1.008340e+09                  55.3                       432.0075   \n",
       "50%    1.012840e+09                  78.6                        928.755   \n",
       "75%    3.005418e+09               112.125                      2252.6625   \n",
       "max    5.074810e+09              494449.3                     5913995.09   \n",
       "\n",
       "       Number of Buildings  ENERGY STAR Score  \n",
       "count          1864.000000        1864.000000  \n",
       "mean              1.399142          62.752682  \n",
       "std               2.360554          29.283619  \n",
       "min               0.000000           1.000000  \n",
       "25%               1.000000          43.000000  \n",
       "50%               1.000000          71.000000  \n",
       "75%               1.000000          87.000000  \n",
       "max              26.000000         100.000000  "
      ]
     },
     "execution_count": 12,
     "metadata": {},
     "output_type": "execute_result"
    }
   ],
   "source": [
    "df.describe()"
   ]
  },
  {
   "cell_type": "code",
   "execution_count": 13,
   "id": "c3e12a9d",
   "metadata": {},
   "outputs": [
    {
     "name": "stdout",
     "output_type": "stream",
     "text": [
      "<class 'pandas.core.frame.DataFrame'>\n",
      "Int64Index: 1864 entries, 2 to 14103\n",
      "Data columns (total 7 columns):\n",
      " #   Column                        Non-Null Count  Dtype  \n",
      "---  ------                        --------------  -----  \n",
      " 0   BBL                           1864 non-null   int64  \n",
      " 1   Borough                       1864 non-null   object \n",
      " 2   Site EUI\n",
      "(kBtu/ft2)           1864 non-null   Float64\n",
      " 3   Reported Water Method         1864 non-null   object \n",
      " 4   Total GHG Emissions\n",
      "(MtCO2e)  1864 non-null   Float64\n",
      " 5   Number of Buildings           1864 non-null   int64  \n",
      " 6   ENERGY STAR Score             1864 non-null   float64\n",
      "dtypes: Float64(2), float64(1), int64(2), object(2)\n",
      "memory usage: 120.1+ KB\n"
     ]
    }
   ],
   "source": [
    "df.info()"
   ]
  },
  {
   "cell_type": "code",
   "execution_count": 14,
   "id": "7e009e7a",
   "metadata": {},
   "outputs": [
    {
     "data": {
      "text/plain": [
       "Number of Buildings             -0.151086\n",
       "Total GHG Emissions\\n(MtCO2e)   -0.139871\n",
       "Site EUI\\n(kBtu/ft2)            -0.137835\n",
       "BBL                             -0.083304\n",
       "ENERGY STAR Score                1.000000\n",
       "Name: ENERGY STAR Score, dtype: float64"
      ]
     },
     "execution_count": 14,
     "metadata": {},
     "output_type": "execute_result"
    }
   ],
   "source": [
    "df.corr(numeric_only=True)[feature_L].sort_values()"
   ]
  },
  {
   "cell_type": "code",
   "execution_count": 15,
   "id": "bfc12480",
   "metadata": {},
   "outputs": [],
   "source": [
    "def delete_anomaly(df, feature):\n",
    "    first_quartile = df[feature].describe()['25%']\n",
    "    third_quartile = df[feature].describe()['75%']\n",
    "    iqr = third_quartile - first_quartile\n",
    "    lower_limit = first_quartile - 1.5 * iqr\n",
    "    upper_limit = third_quartile + 1.5 * iqr\n",
    "    df = df[(df[feature] > lower_limit) & (df[feature] < upper_limit)]\n",
    "    return df"
   ]
  },
  {
   "cell_type": "code",
   "execution_count": 16,
   "id": "502ea113",
   "metadata": {},
   "outputs": [],
   "source": [
    "df = delete_anomaly(df, feature_H)"
   ]
  },
  {
   "cell_type": "code",
   "execution_count": 17,
   "id": "eaf9fe71",
   "metadata": {},
   "outputs": [
    {
     "name": "stdout",
     "output_type": "stream",
     "text": [
      "<class 'pandas.core.frame.DataFrame'>\n",
      "Int64Index: 1717 entries, 2 to 14103\n",
      "Data columns (total 7 columns):\n",
      " #   Column                        Non-Null Count  Dtype  \n",
      "---  ------                        --------------  -----  \n",
      " 0   BBL                           1717 non-null   int64  \n",
      " 1   Borough                       1717 non-null   object \n",
      " 2   Site EUI\n",
      "(kBtu/ft2)           1717 non-null   Float64\n",
      " 3   Reported Water Method         1717 non-null   object \n",
      " 4   Total GHG Emissions\n",
      "(MtCO2e)  1717 non-null   Float64\n",
      " 5   Number of Buildings           1717 non-null   int64  \n",
      " 6   ENERGY STAR Score             1717 non-null   float64\n",
      "dtypes: Float64(2), float64(1), int64(2), object(2)\n",
      "memory usage: 110.7+ KB\n"
     ]
    }
   ],
   "source": [
    "df.info()"
   ]
  },
  {
   "cell_type": "code",
   "execution_count": 18,
   "id": "e637eed1",
   "metadata": {},
   "outputs": [
    {
     "data": {
      "text/plain": [
       "Site EUI\\n(kBtu/ft2)            -0.649168\n",
       "Number of Buildings             -0.140789\n",
       "Total GHG Emissions\\n(MtCO2e)   -0.083494\n",
       "BBL                             -0.080474\n",
       "ENERGY STAR Score                1.000000\n",
       "Name: ENERGY STAR Score, dtype: float64"
      ]
     },
     "execution_count": 18,
     "metadata": {},
     "output_type": "execute_result"
    }
   ],
   "source": [
    "df.corr(numeric_only=True)[feature_L].sort_values()"
   ]
  },
  {
   "cell_type": "code",
   "execution_count": 19,
   "id": "df2c070e",
   "metadata": {},
   "outputs": [],
   "source": [
    "df = delete_anomaly(df, feature_A)\n",
    "df = delete_anomaly(df, feature_M)"
   ]
  },
  {
   "cell_type": "code",
   "execution_count": 20,
   "id": "561cbedf",
   "metadata": {},
   "outputs": [
    {
     "name": "stdout",
     "output_type": "stream",
     "text": [
      "<class 'pandas.core.frame.DataFrame'>\n",
      "Int64Index: 1506 entries, 6 to 14103\n",
      "Data columns (total 7 columns):\n",
      " #   Column                        Non-Null Count  Dtype  \n",
      "---  ------                        --------------  -----  \n",
      " 0   BBL                           1506 non-null   int64  \n",
      " 1   Borough                       1506 non-null   object \n",
      " 2   Site EUI\n",
      "(kBtu/ft2)           1506 non-null   Float64\n",
      " 3   Reported Water Method         1506 non-null   object \n",
      " 4   Total GHG Emissions\n",
      "(MtCO2e)  1506 non-null   Float64\n",
      " 5   Number of Buildings           1506 non-null   int64  \n",
      " 6   ENERGY STAR Score             1506 non-null   float64\n",
      "dtypes: Float64(2), float64(1), int64(2), object(2)\n",
      "memory usage: 97.1+ KB\n"
     ]
    }
   ],
   "source": [
    "df.info()"
   ]
  },
  {
   "cell_type": "code",
   "execution_count": 21,
   "id": "de9c13a7",
   "metadata": {},
   "outputs": [
    {
     "data": {
      "text/plain": [
       "Site EUI\\n(kBtu/ft2)            -0.661515\n",
       "Total GHG Emissions\\n(MtCO2e)   -0.185402\n",
       "Number of Buildings             -0.147142\n",
       "BBL                             -0.083544\n",
       "ENERGY STAR Score                1.000000\n",
       "Name: ENERGY STAR Score, dtype: float64"
      ]
     },
     "execution_count": 21,
     "metadata": {},
     "output_type": "execute_result"
    }
   ],
   "source": [
    "df.corr(numeric_only=True)[feature_L].sort_values()"
   ]
  },
  {
   "cell_type": "code",
   "execution_count": 22,
   "id": "5adcb81f",
   "metadata": {},
   "outputs": [
    {
     "data": {
      "text/html": [
       "<div>\n",
       "<style scoped>\n",
       "    .dataframe tbody tr th:only-of-type {\n",
       "        vertical-align: middle;\n",
       "    }\n",
       "\n",
       "    .dataframe tbody tr th {\n",
       "        vertical-align: top;\n",
       "    }\n",
       "\n",
       "    .dataframe thead th {\n",
       "        text-align: right;\n",
       "    }\n",
       "</style>\n",
       "<table border=\"1\" class=\"dataframe\">\n",
       "  <thead>\n",
       "    <tr style=\"text-align: right;\">\n",
       "      <th></th>\n",
       "      <th>BBL</th>\n",
       "      <th>Site EUI\\n(kBtu/ft2)</th>\n",
       "      <th>Total GHG Emissions\\n(MtCO2e)</th>\n",
       "      <th>Number of Buildings</th>\n",
       "      <th>ENERGY STAR Score</th>\n",
       "    </tr>\n",
       "  </thead>\n",
       "  <tbody>\n",
       "    <tr>\n",
       "      <th>count</th>\n",
       "      <td>1.506000e+03</td>\n",
       "      <td>1506.0</td>\n",
       "      <td>1506.0</td>\n",
       "      <td>1506.000000</td>\n",
       "      <td>1506.000000</td>\n",
       "    </tr>\n",
       "    <tr>\n",
       "      <th>mean</th>\n",
       "      <td>1.893997e+09</td>\n",
       "      <td>75.568924</td>\n",
       "      <td>987.799044</td>\n",
       "      <td>1.345286</td>\n",
       "      <td>66.673971</td>\n",
       "    </tr>\n",
       "    <tr>\n",
       "      <th>std</th>\n",
       "      <td>1.266632e+09</td>\n",
       "      <td>39.995594</td>\n",
       "      <td>869.40538</td>\n",
       "      <td>2.289431</td>\n",
       "      <td>27.344522</td>\n",
       "    </tr>\n",
       "    <tr>\n",
       "      <th>min</th>\n",
       "      <td>1.000090e+09</td>\n",
       "      <td>0.3</td>\n",
       "      <td>2.01</td>\n",
       "      <td>0.000000</td>\n",
       "      <td>1.000000</td>\n",
       "    </tr>\n",
       "    <tr>\n",
       "      <th>25%</th>\n",
       "      <td>1.008340e+09</td>\n",
       "      <td>49.7</td>\n",
       "      <td>375.8825</td>\n",
       "      <td>1.000000</td>\n",
       "      <td>49.000000</td>\n",
       "    </tr>\n",
       "    <tr>\n",
       "      <th>50%</th>\n",
       "      <td>1.012895e+09</td>\n",
       "      <td>71.8</td>\n",
       "      <td>698.625</td>\n",
       "      <td>1.000000</td>\n",
       "      <td>74.000000</td>\n",
       "    </tr>\n",
       "    <tr>\n",
       "      <th>75%</th>\n",
       "      <td>3.021065e+09</td>\n",
       "      <td>96.8</td>\n",
       "      <td>1345.44</td>\n",
       "      <td>1.000000</td>\n",
       "      <td>89.000000</td>\n",
       "    </tr>\n",
       "    <tr>\n",
       "      <th>max</th>\n",
       "      <td>5.074810e+09</td>\n",
       "      <td>196.4</td>\n",
       "      <td>4074.64</td>\n",
       "      <td>25.000000</td>\n",
       "      <td>100.000000</td>\n",
       "    </tr>\n",
       "  </tbody>\n",
       "</table>\n",
       "</div>"
      ],
      "text/plain": [
       "                BBL  Site EUI\\n(kBtu/ft2)  Total GHG Emissions\\n(MtCO2e)  \\\n",
       "count  1.506000e+03                1506.0                         1506.0   \n",
       "mean   1.893997e+09             75.568924                     987.799044   \n",
       "std    1.266632e+09             39.995594                      869.40538   \n",
       "min    1.000090e+09                   0.3                           2.01   \n",
       "25%    1.008340e+09                  49.7                       375.8825   \n",
       "50%    1.012895e+09                  71.8                        698.625   \n",
       "75%    3.021065e+09                  96.8                        1345.44   \n",
       "max    5.074810e+09                 196.4                        4074.64   \n",
       "\n",
       "       Number of Buildings  ENERGY STAR Score  \n",
       "count          1506.000000        1506.000000  \n",
       "mean              1.345286          66.673971  \n",
       "std               2.289431          27.344522  \n",
       "min               0.000000           1.000000  \n",
       "25%               1.000000          49.000000  \n",
       "50%               1.000000          74.000000  \n",
       "75%               1.000000          89.000000  \n",
       "max              25.000000         100.000000  "
      ]
     },
     "execution_count": 22,
     "metadata": {},
     "output_type": "execute_result"
    }
   ],
   "source": [
    "df.describe()"
   ]
  },
  {
   "cell_type": "code",
   "execution_count": 23,
   "id": "1d9426f6",
   "metadata": {},
   "outputs": [
    {
     "name": "stdout",
     "output_type": "stream",
     "text": [
      "<class 'pandas.core.frame.DataFrame'>\n",
      "Int64Index: 1506 entries, 6 to 14103\n",
      "Data columns (total 7 columns):\n",
      " #   Column                        Non-Null Count  Dtype  \n",
      "---  ------                        --------------  -----  \n",
      " 0   BBL                           1506 non-null   int64  \n",
      " 1   Borough                       1506 non-null   object \n",
      " 2   Site EUI\n",
      "(kBtu/ft2)           1506 non-null   Float64\n",
      " 3   Reported Water Method         1506 non-null   object \n",
      " 4   Total GHG Emissions\n",
      "(MtCO2e)  1506 non-null   Float64\n",
      " 5   Number of Buildings           1506 non-null   int64  \n",
      " 6   ENERGY STAR Score             1506 non-null   float64\n",
      "dtypes: Float64(2), float64(1), int64(2), object(2)\n",
      "memory usage: 97.1+ KB\n"
     ]
    }
   ],
   "source": [
    "df.info()"
   ]
  },
  {
   "cell_type": "code",
   "execution_count": 24,
   "id": "3a084e12",
   "metadata": {},
   "outputs": [
    {
     "data": {
      "text/html": [
       "<div>\n",
       "<style scoped>\n",
       "    .dataframe tbody tr th:only-of-type {\n",
       "        vertical-align: middle;\n",
       "    }\n",
       "\n",
       "    .dataframe tbody tr th {\n",
       "        vertical-align: top;\n",
       "    }\n",
       "\n",
       "    .dataframe thead th {\n",
       "        text-align: right;\n",
       "    }\n",
       "</style>\n",
       "<table border=\"1\" class=\"dataframe\">\n",
       "  <thead>\n",
       "    <tr style=\"text-align: right;\">\n",
       "      <th></th>\n",
       "      <th>Borough</th>\n",
       "      <th>Reported Water Method</th>\n",
       "    </tr>\n",
       "  </thead>\n",
       "  <tbody>\n",
       "    <tr>\n",
       "      <th>14087</th>\n",
       "      <td>STATEN ISLAND</td>\n",
       "      <td>ABS</td>\n",
       "    </tr>\n",
       "    <tr>\n",
       "      <th>14094</th>\n",
       "      <td>STATEN ISLAND</td>\n",
       "      <td>Manual</td>\n",
       "    </tr>\n",
       "    <tr>\n",
       "      <th>14097</th>\n",
       "      <td>STATEN ISLAND</td>\n",
       "      <td>Manual</td>\n",
       "    </tr>\n",
       "    <tr>\n",
       "      <th>14099</th>\n",
       "      <td>STATEN ISLAND</td>\n",
       "      <td>Manual</td>\n",
       "    </tr>\n",
       "    <tr>\n",
       "      <th>14103</th>\n",
       "      <td>STATEN ISLAND</td>\n",
       "      <td>Manual</td>\n",
       "    </tr>\n",
       "  </tbody>\n",
       "</table>\n",
       "</div>"
      ],
      "text/plain": [
       "             Borough Reported Water Method\n",
       "14087  STATEN ISLAND                   ABS\n",
       "14094  STATEN ISLAND                Manual\n",
       "14097  STATEN ISLAND                Manual\n",
       "14099  STATEN ISLAND                Manual\n",
       "14103  STATEN ISLAND                Manual"
      ]
     },
     "execution_count": 24,
     "metadata": {},
     "output_type": "execute_result"
    }
   ],
   "source": [
    "# One hot encode\n",
    "ohe_tmp = df[[feature_D, feature_K]]\n",
    "ohe_tmp.tail()"
   ]
  },
  {
   "cell_type": "code",
   "execution_count": 25,
   "id": "846314b1",
   "metadata": {},
   "outputs": [
    {
     "data": {
      "text/html": [
       "<div>\n",
       "<style scoped>\n",
       "    .dataframe tbody tr th:only-of-type {\n",
       "        vertical-align: middle;\n",
       "    }\n",
       "\n",
       "    .dataframe tbody tr th {\n",
       "        vertical-align: top;\n",
       "    }\n",
       "\n",
       "    .dataframe thead th {\n",
       "        text-align: right;\n",
       "    }\n",
       "</style>\n",
       "<table border=\"1\" class=\"dataframe\">\n",
       "  <thead>\n",
       "    <tr style=\"text-align: right;\">\n",
       "      <th></th>\n",
       "      <th>Borough_BRONX</th>\n",
       "      <th>Borough_BROOKLYN</th>\n",
       "      <th>Borough_MANHATTAN</th>\n",
       "      <th>Borough_QUEENS</th>\n",
       "      <th>Borough_STATEN ISLAND</th>\n",
       "      <th>Reported Water Method_ABS</th>\n",
       "      <th>Reported Water Method_Manual</th>\n",
       "    </tr>\n",
       "  </thead>\n",
       "  <tbody>\n",
       "    <tr>\n",
       "      <th>6</th>\n",
       "      <td>0</td>\n",
       "      <td>0</td>\n",
       "      <td>1</td>\n",
       "      <td>0</td>\n",
       "      <td>0</td>\n",
       "      <td>0</td>\n",
       "      <td>1</td>\n",
       "    </tr>\n",
       "    <tr>\n",
       "      <th>9</th>\n",
       "      <td>0</td>\n",
       "      <td>0</td>\n",
       "      <td>1</td>\n",
       "      <td>0</td>\n",
       "      <td>0</td>\n",
       "      <td>0</td>\n",
       "      <td>1</td>\n",
       "    </tr>\n",
       "    <tr>\n",
       "      <th>10</th>\n",
       "      <td>0</td>\n",
       "      <td>0</td>\n",
       "      <td>1</td>\n",
       "      <td>0</td>\n",
       "      <td>0</td>\n",
       "      <td>0</td>\n",
       "      <td>1</td>\n",
       "    </tr>\n",
       "    <tr>\n",
       "      <th>12</th>\n",
       "      <td>0</td>\n",
       "      <td>0</td>\n",
       "      <td>1</td>\n",
       "      <td>0</td>\n",
       "      <td>0</td>\n",
       "      <td>1</td>\n",
       "      <td>0</td>\n",
       "    </tr>\n",
       "    <tr>\n",
       "      <th>13</th>\n",
       "      <td>0</td>\n",
       "      <td>0</td>\n",
       "      <td>1</td>\n",
       "      <td>0</td>\n",
       "      <td>0</td>\n",
       "      <td>0</td>\n",
       "      <td>1</td>\n",
       "    </tr>\n",
       "  </tbody>\n",
       "</table>\n",
       "</div>"
      ],
      "text/plain": [
       "    Borough_BRONX  Borough_BROOKLYN  Borough_MANHATTAN  Borough_QUEENS  \\\n",
       "6               0                 0                  1               0   \n",
       "9               0                 0                  1               0   \n",
       "10              0                 0                  1               0   \n",
       "12              0                 0                  1               0   \n",
       "13              0                 0                  1               0   \n",
       "\n",
       "    Borough_STATEN ISLAND  Reported Water Method_ABS  \\\n",
       "6                       0                          0   \n",
       "9                       0                          0   \n",
       "10                      0                          0   \n",
       "12                      0                          1   \n",
       "13                      0                          0   \n",
       "\n",
       "    Reported Water Method_Manual  \n",
       "6                              1  \n",
       "9                              1  \n",
       "10                             1  \n",
       "12                             0  \n",
       "13                             1  "
      ]
     },
     "execution_count": 25,
     "metadata": {},
     "output_type": "execute_result"
    }
   ],
   "source": [
    "ohe_tmp = pd.get_dummies(ohe_tmp)\n",
    "ohe_tmp.head()"
   ]
  },
  {
   "cell_type": "code",
   "execution_count": 26,
   "id": "98affb25",
   "metadata": {},
   "outputs": [
    {
     "data": {
      "text/html": [
       "<div>\n",
       "<style scoped>\n",
       "    .dataframe tbody tr th:only-of-type {\n",
       "        vertical-align: middle;\n",
       "    }\n",
       "\n",
       "    .dataframe tbody tr th {\n",
       "        vertical-align: top;\n",
       "    }\n",
       "\n",
       "    .dataframe thead th {\n",
       "        text-align: right;\n",
       "    }\n",
       "</style>\n",
       "<table border=\"1\" class=\"dataframe\">\n",
       "  <thead>\n",
       "    <tr style=\"text-align: right;\">\n",
       "      <th></th>\n",
       "      <th>BBL</th>\n",
       "      <th>Site EUI\\n(kBtu/ft2)</th>\n",
       "      <th>Total GHG Emissions\\n(MtCO2e)</th>\n",
       "      <th>Number of Buildings</th>\n",
       "      <th>ENERGY STAR Score</th>\n",
       "      <th>Borough_BRONX</th>\n",
       "      <th>Borough_BROOKLYN</th>\n",
       "      <th>Borough_MANHATTAN</th>\n",
       "      <th>Borough_QUEENS</th>\n",
       "      <th>Borough_STATEN ISLAND</th>\n",
       "      <th>Reported Water Method_ABS</th>\n",
       "      <th>Reported Water Method_Manual</th>\n",
       "    </tr>\n",
       "  </thead>\n",
       "  <tbody>\n",
       "    <tr>\n",
       "      <th>6</th>\n",
       "      <td>1000090014</td>\n",
       "      <td>79.7</td>\n",
       "      <td>4033.53</td>\n",
       "      <td>1</td>\n",
       "      <td>82.0</td>\n",
       "      <td>0</td>\n",
       "      <td>0</td>\n",
       "      <td>1</td>\n",
       "      <td>0</td>\n",
       "      <td>0</td>\n",
       "      <td>0</td>\n",
       "      <td>1</td>\n",
       "    </tr>\n",
       "    <tr>\n",
       "      <th>9</th>\n",
       "      <td>1000100016</td>\n",
       "      <td>39.8</td>\n",
       "      <td>1405.66</td>\n",
       "      <td>1</td>\n",
       "      <td>90.0</td>\n",
       "      <td>0</td>\n",
       "      <td>0</td>\n",
       "      <td>1</td>\n",
       "      <td>0</td>\n",
       "      <td>0</td>\n",
       "      <td>0</td>\n",
       "      <td>1</td>\n",
       "    </tr>\n",
       "    <tr>\n",
       "      <th>10</th>\n",
       "      <td>1000100023</td>\n",
       "      <td>102.8</td>\n",
       "      <td>2939.91</td>\n",
       "      <td>1</td>\n",
       "      <td>67.0</td>\n",
       "      <td>0</td>\n",
       "      <td>0</td>\n",
       "      <td>1</td>\n",
       "      <td>0</td>\n",
       "      <td>0</td>\n",
       "      <td>0</td>\n",
       "      <td>1</td>\n",
       "    </tr>\n",
       "    <tr>\n",
       "      <th>12</th>\n",
       "      <td>1012900021</td>\n",
       "      <td>71.8</td>\n",
       "      <td>3091.99</td>\n",
       "      <td>1</td>\n",
       "      <td>80.0</td>\n",
       "      <td>0</td>\n",
       "      <td>0</td>\n",
       "      <td>1</td>\n",
       "      <td>0</td>\n",
       "      <td>0</td>\n",
       "      <td>1</td>\n",
       "      <td>0</td>\n",
       "    </tr>\n",
       "    <tr>\n",
       "      <th>13</th>\n",
       "      <td>1000110021</td>\n",
       "      <td>52.6</td>\n",
       "      <td>2254.53</td>\n",
       "      <td>1</td>\n",
       "      <td>96.0</td>\n",
       "      <td>0</td>\n",
       "      <td>0</td>\n",
       "      <td>1</td>\n",
       "      <td>0</td>\n",
       "      <td>0</td>\n",
       "      <td>0</td>\n",
       "      <td>1</td>\n",
       "    </tr>\n",
       "  </tbody>\n",
       "</table>\n",
       "</div>"
      ],
      "text/plain": [
       "           BBL  Site EUI\\n(kBtu/ft2)  Total GHG Emissions\\n(MtCO2e)  \\\n",
       "6   1000090014                  79.7                        4033.53   \n",
       "9   1000100016                  39.8                        1405.66   \n",
       "10  1000100023                 102.8                        2939.91   \n",
       "12  1012900021                  71.8                        3091.99   \n",
       "13  1000110021                  52.6                        2254.53   \n",
       "\n",
       "    Number of Buildings  ENERGY STAR Score  Borough_BRONX  Borough_BROOKLYN  \\\n",
       "6                     1               82.0              0                 0   \n",
       "9                     1               90.0              0                 0   \n",
       "10                    1               67.0              0                 0   \n",
       "12                    1               80.0              0                 0   \n",
       "13                    1               96.0              0                 0   \n",
       "\n",
       "    Borough_MANHATTAN  Borough_QUEENS  Borough_STATEN ISLAND  \\\n",
       "6                   1               0                      0   \n",
       "9                   1               0                      0   \n",
       "10                  1               0                      0   \n",
       "12                  1               0                      0   \n",
       "13                  1               0                      0   \n",
       "\n",
       "    Reported Water Method_ABS  Reported Water Method_Manual  \n",
       "6                           0                             1  \n",
       "9                           0                             1  \n",
       "10                          0                             1  \n",
       "12                          1                             0  \n",
       "13                          0                             1  "
      ]
     },
     "execution_count": 26,
     "metadata": {},
     "output_type": "execute_result"
    }
   ],
   "source": [
    "df = pd.concat([df.drop(columns={feature_D, feature_K}, axis = 1), ohe_tmp], axis = 1)\n",
    "df.head()"
   ]
  },
  {
   "cell_type": "code",
   "execution_count": 27,
   "id": "3005f694",
   "metadata": {},
   "outputs": [],
   "source": [
    "# Дропнем столбец BBL, тк это идентификатор\n",
    "#df = df.drop([feature_A], axis = 1)\n",
    "#df.head()"
   ]
  },
  {
   "cell_type": "code",
   "execution_count": 28,
   "id": "60e323ea",
   "metadata": {},
   "outputs": [
    {
     "data": {
      "text/plain": [
       "Site EUI\\n(kBtu/ft2)            -0.661515\n",
       "Total GHG Emissions\\n(MtCO2e)   -0.185402\n",
       "Number of Buildings             -0.147142\n",
       "BBL                             -0.083544\n",
       "Borough_BRONX                   -0.073318\n",
       "Borough_QUEENS                  -0.066771\n",
       "Reported Water Method_Manual    -0.066288\n",
       "Borough_BROOKLYN                -0.037495\n",
       "Borough_STATEN ISLAND            0.020355\n",
       "Reported Water Method_ABS        0.066288\n",
       "Borough_MANHATTAN                0.107570\n",
       "ENERGY STAR Score                1.000000\n",
       "Name: ENERGY STAR Score, dtype: float64"
      ]
     },
     "execution_count": 28,
     "metadata": {},
     "output_type": "execute_result"
    }
   ],
   "source": [
    "df.corr(numeric_only=True)[feature_L].sort_values()"
   ]
  },
  {
   "cell_type": "code",
   "execution_count": 29,
   "id": "dc72256a",
   "metadata": {},
   "outputs": [
    {
     "name": "stdout",
     "output_type": "stream",
     "text": [
      "<class 'pandas.core.frame.DataFrame'>\n",
      "Int64Index: 1506 entries, 6 to 14103\n",
      "Data columns (total 12 columns):\n",
      " #   Column                        Non-Null Count  Dtype  \n",
      "---  ------                        --------------  -----  \n",
      " 0   BBL                           1506 non-null   int64  \n",
      " 1   Site EUI\n",
      "(kBtu/ft2)           1506 non-null   Float64\n",
      " 2   Total GHG Emissions\n",
      "(MtCO2e)  1506 non-null   Float64\n",
      " 3   Number of Buildings           1506 non-null   int64  \n",
      " 4   ENERGY STAR Score             1506 non-null   float64\n",
      " 5   Borough_BRONX                 1506 non-null   uint8  \n",
      " 6   Borough_BROOKLYN              1506 non-null   uint8  \n",
      " 7   Borough_MANHATTAN             1506 non-null   uint8  \n",
      " 8   Borough_QUEENS                1506 non-null   uint8  \n",
      " 9   Borough_STATEN ISLAND         1506 non-null   uint8  \n",
      " 10  Reported Water Method_ABS     1506 non-null   uint8  \n",
      " 11  Reported Water Method_Manual  1506 non-null   uint8  \n",
      "dtypes: Float64(2), float64(1), int64(2), uint8(7)\n",
      "memory usage: 83.8 KB\n"
     ]
    }
   ],
   "source": [
    "df.info()"
   ]
  },
  {
   "cell_type": "code",
   "execution_count": 45,
   "id": "8d10b75f",
   "metadata": {},
   "outputs": [],
   "source": [
    "from sklearn.model_selection import train_test_split\n",
    "from sklearn import linear_model, metrics\n",
    "from sklearn.metrics import accuracy_score, classification_report"
   ]
  },
  {
   "cell_type": "code",
   "execution_count": 114,
   "id": "adf2b1c2",
   "metadata": {},
   "outputs": [],
   "source": [
    "labels = df[feature_L]\n",
    "labels = np.where(labels > 70, 1, 0)\n",
    "data = df.drop([feature_L], axis = 1)"
   ]
  },
  {
   "cell_type": "code",
   "execution_count": 115,
   "id": "d6eb8912",
   "metadata": {},
   "outputs": [
    {
     "name": "stdout",
     "output_type": "stream",
     "text": [
      "(1204, 11)\n",
      "<class 'tuple'>\n",
      "[0 1 1 ... 0 1 1]\n",
      "<class 'numpy.ndarray'>\n"
     ]
    }
   ],
   "source": [
    "X_train, X_test, y_train, y_test = train_test_split(data, labels, test_size = 0.2, random_state = 7)\n",
    "\n",
    "\n",
    "\n",
    "print(X_train.shape)\n",
    "print(type(X_test.shape))\n",
    "print(y_train)\n",
    "print(type(y_test))"
   ]
  },
  {
   "cell_type": "code",
   "execution_count": 117,
   "id": "c4587a91",
   "metadata": {},
   "outputs": [],
   "source": [
    "from sklearn.tree import DecisionTreeClassifier"
   ]
  },
  {
   "cell_type": "markdown",
   "id": "4a5e34f5",
   "metadata": {},
   "source": [
    "Параметр min_samples_leaf в деревьях решений определяет минимальное количество образцов (samples), которые должны находиться в листовом узле (leaf node). Другими словами, это минимальное количество образцов данных, которое должно быть в каждом \"листе\" (конечном узле дерева), когда дерево принимает решение\n",
    "\n",
    "Если значение этого параметра задано как целое число, то оно рассматривается как абсолютное количество образцов. Если значение задано как число с плавающей точкой (float), то min_samples_leaf рассматривается как долю от общего количества образцов, и итоговое число образцов в листовом узле будет равно ceil(min_samples_leaf * n_samples), где n_samples - это общее количество образцов"
   ]
  },
  {
   "cell_type": "code",
   "execution_count": 118,
   "id": "c48e731a",
   "metadata": {},
   "outputs": [
    {
     "data": {
      "text/plain": [
       "0.7450331125827815"
      ]
     },
     "execution_count": 118,
     "metadata": {},
     "output_type": "execute_result"
    }
   ],
   "source": [
    "tree = DecisionTreeClassifier(min_samples_leaf=10)\n",
    "tree.fit(X_train, y_train)\n",
    "predictions = tree.predict(X_test)\n",
    "accuracy = metrics.accuracy_score(y_test, predictions)\n",
    "accuracy"
   ]
  },
  {
   "cell_type": "code",
   "execution_count": 119,
   "id": "b3722cd7",
   "metadata": {},
   "outputs": [
    {
     "data": {
      "text/plain": [
       "array([1, 1, 0, 0, 1, 0, 1, 0, 0, 1])"
      ]
     },
     "execution_count": 119,
     "metadata": {},
     "output_type": "execute_result"
    }
   ],
   "source": [
    "predictions[:10]"
   ]
  },
  {
   "cell_type": "code",
   "execution_count": 120,
   "id": "4b26514c",
   "metadata": {},
   "outputs": [
    {
     "data": {
      "text/plain": [
       "array([1, 1, 0, 0, 0, 0, 1, 0, 0, 1])"
      ]
     },
     "execution_count": 120,
     "metadata": {},
     "output_type": "execute_result"
    }
   ],
   "source": [
    "y_test[:10]"
   ]
  },
  {
   "cell_type": "code",
   "execution_count": 121,
   "id": "5b62f8b6",
   "metadata": {},
   "outputs": [],
   "source": [
    "from sklearn import ensemble"
   ]
  },
  {
   "cell_type": "code",
   "execution_count": 131,
   "id": "5f811919",
   "metadata": {},
   "outputs": [],
   "source": [
    "X_train, X_test, y_train, y_test = train_test_split(data, labels, test_size = 0.2, random_state = 7)\n"
   ]
  },
  {
   "cell_type": "markdown",
   "id": "295ded69",
   "metadata": {},
   "source": [
    "min_samples_split : integer, optional (default=2)\n",
    "\n",
    "The minimum number of samples required to split an internal node. Note: this parameter is tree-specific."
   ]
  },
  {
   "cell_type": "code",
   "execution_count": 137,
   "id": "9291b917",
   "metadata": {},
   "outputs": [
    {
     "data": {
      "text/plain": [
       "0.7913907284768212"
      ]
     },
     "execution_count": 137,
     "metadata": {},
     "output_type": "execute_result"
    }
   ],
   "source": [
    "rf = ensemble.RandomForestClassifier(min_samples_split = 8)\n",
    "rf.fit(X_train, y_train)\n",
    "rf_predictions = rf.predict(X_test)\n",
    "rf_accuracy = metrics.accuracy_score(y_test, rf_predictions)\n",
    "rf_accuracy"
   ]
  },
  {
   "cell_type": "code",
   "execution_count": 138,
   "id": "72bf2f85",
   "metadata": {},
   "outputs": [
    {
     "data": {
      "text/plain": [
       "array([0.19392366, 0.53040615, 0.19766391, 0.02026529, 0.0044679 ,\n",
       "       0.0058055 , 0.01293166, 0.01115908, 0.00711398, 0.00857902,\n",
       "       0.00768384])"
      ]
     },
     "execution_count": 138,
     "metadata": {},
     "output_type": "execute_result"
    }
   ],
   "source": [
    "importances = rf.feature_importances_\n",
    "importances"
   ]
  },
  {
   "cell_type": "code",
   "execution_count": 139,
   "id": "89712627",
   "metadata": {},
   "outputs": [
    {
     "data": {
      "image/png": "[encoded data removed]",
      "text/plain": [
       "<Figure size 1500x500 with 1 Axes>"
      ]
     },
     "metadata": {},
     "output_type": "display_data"
    }
   ],
   "source": [
    "plt.figure(figsize=(15, 5))\n",
    "plt.bar(range(len(importances)), importances, tick_label=X_train.columns)\n",
    "plt.xticks(rotation=90)\n",
    "plt.show()"
   ]
  },
  {
   "cell_type": "code",
   "execution_count": null,
   "id": "cc393dcc",
   "metadata": {},
   "outputs": [],
   "source": []
  }
 ],
 "metadata": {
  "kernelspec": {
   "display_name": "Python 3 (ipykernel)",
   "language": "python",
   "name": "python3"
  },
  "language_info": {
   "codemirror_mode": {
    "name": "ipython",
    "version": 3
   },
   "file_extension": ".py",
   "mimetype": "text/x-python",
   "name": "python",
   "nbconvert_exporter": "python",
   "pygments_lexer": "ipython3",
   "version": "3.9.16"
  }
 },
 "nbformat": 4,
 "nbformat_minor": 5
}
